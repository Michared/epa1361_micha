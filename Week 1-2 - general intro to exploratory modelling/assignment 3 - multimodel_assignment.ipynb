{
 "cells": [
  {
   "cell_type": "markdown",
   "metadata": {},
   "source": [
    "# EPA1361 - Model-Based Decision Making\n",
    "\n",
    "## Multi-model analysis\n",
    "\n",
    "This exercise uses a simple version of the [Lotka-Volterra predator-prey equations](https://en.wikipedia.org/wiki/Lotka%E2%80%93Volterra_equations) to show how the EMA Workbench can be used for a\n",
    "multi-model analysis, in addition to typical parametric/structural uncertainties. This will let you test the connectors provided in the Workbench for Excel, NetLogo, and Vensim / PySD; we'll also use the models for the sensitivity analysis exercise in week 3.\n",
    "\n",
    "**Assignment**\n",
    "Using the three model files provided and the Python function below, define model objects for each implementation (Excel, NetLogo, Vensim/PySD, and Python), and test them using a single ensemble. Use 50 experiments sampled from the parameters below (so that each experiment will be executed for the 4 models, for a total of 200), and retrieve outputs for the _TIME_, _predators_, and _prey_ variables.\n",
    "   * Excel and Vensim are only supported on Windows\n",
    "   * Vensim requires the DSS version of Vensim\n",
    "   * Netlogo supoprt depends on [jpype](http://jpype.readthedocs.io/en/latest/install.html) and [pynetlogo](https://pynetlogo.readthedocs.io/en/latest/). Also, if you don't have NetLogo installed, please get [NetLogo 6.3.0](https://ccl.northwestern.edu/netlogo/download.shtml)\n",
    "   * for pysd, see [its documentation](http://pysd.readthedocs.io/en/master/installation.html)\n",
    "   * If possible try to work with all model versions, but even 2 or 3 (pure python and something else should be sufficient).\n",
    "\n",
    "\n",
    "|Parameter\t|Range or value\t        |\n",
    "|-----------|--------------:|\n",
    "|prey_birth_rate    \t|0.015 – 0.035\t|\n",
    "|predation_rate|0.0005 – 0.003 \t|\n",
    "|predator_efficiency     \t|0.001 – 0.004\t    |\n",
    "|predator_loss_rate\t    |0.04 – 0.08\t    |\n",
    "|Final time\t    |365\t    |\n",
    "|dt\t    |0.25\t    |\n",
    "\n",
    "* Note that your EMA Workbench installation includes [example scripts](https://github.com/quaquel/EMAworkbench/tree/master/ema_workbench/examples) for the different connectors. The different model objects follow a similar syntax but will need to be slightly adjusted depending on the software (e.g. to specify the NetLogo run length or the sheet name in Excel).\n",
    "  * This [tutorial](https://emaworkbench.readthedocs.io/en/latest/basic_tutorial.html) also shows a simple model in Python, Vensim and Excel connected to the workbench.\n",
    "\n",
    "* These model objects can be used with a replication functionality (for instance to test the effect of stochastic uncertainty in a NetLogo model), which repeats a given experiment over multiple replications. You can use a single replication in this exercise as the models are not stochastic. By default, each outcome array will then have a shape of (# experiments, # replications, # time steps). Try adapting the outcome arrays so that they can be used with the _lines_ plotting function of the Workbench, and plot the results grouped by model.\n",
    "\n",
    "* To check the graphical results, find the maximum absolute error of the time series you obtained for the _prey_ variable in the Excel, NetLogo, and Vensim/PySD models, relative to the Python function."
   ]
  },
  {
   "cell_type": "code",
   "execution_count": 1,
   "metadata": {
    "ExecuteTime": {
     "end_time": "2023-04-07T13:56:51.448651Z",
     "start_time": "2023-04-07T13:56:49.471035Z"
    },
    "collapsed": false,
    "jupyter": {
     "outputs_hidden": false
    }
   },
   "outputs": [
    {
     "name": "stderr",
     "output_type": "stream",
     "text": [
      "C:\\Users\\marno\\.conda\\envs\\EPA1361\\Lib\\site-packages\\ema_workbench\\connectors\\__init__.py:19: ImportWarning: vensim connector not available\n",
      "  warnings.warn(\"vensim connector not available\", ImportWarning)\n",
      "C:\\Users\\marno\\.conda\\envs\\EPA1361\\Lib\\site-packages\\ema_workbench\\connectors\\__init__.py:34: ImportWarning: simio connector not available\n",
      "  warnings.warn(\"simio connector not available\", ImportWarning)\n",
      "C:\\Users\\marno\\.conda\\envs\\EPA1361\\Lib\\site-packages\\ema_workbench\\analysis\\prim.py:30: ImportWarning: altair based interactive inspection not available\n",
      "  warnings.warn((\"altair based interactive \" \"inspection not available\"), ImportWarning)\n"
     ]
    }
   ],
   "source": [
    "# Some imports you may need\n",
    "import numpy as np\n",
    "import matplotlib.pyplot as plt\n",
    "\n",
    "from ema_workbench import (Model, RealParameter, TimeSeriesOutcome, perform_experiments, ema_logging)\n",
    "\n",
    "from ema_workbench.connectors.netlogo import NetLogoModel\n",
    "from ema_workbench.connectors.excel import ExcelModel\n",
    "from ema_workbench.connectors.pysd_connector import PysdModel\n",
    "\n",
    "from ema_workbench.em_framework.samplers import LHSSampler\n",
    "from ema_workbench.em_framework.salib_samplers import MorrisSampler, SobolSampler\n",
    "\n",
    "from ema_workbench.analysis.plotting import lines, Density\n",
    "\n",
    "from ema_workbench import SequentialEvaluator, MultiprocessingEvaluator\n"
   ]
  },
  {
   "cell_type": "code",
   "execution_count": 2,
   "metadata": {
    "ExecuteTime": {
     "end_time": "2023-04-07T13:56:51.450975Z",
     "start_time": "2023-04-07T13:56:51.445849Z"
    },
    "collapsed": false,
    "jupyter": {
     "outputs_hidden": false
    }
   },
   "outputs": [],
   "source": [
    "# Import the Python function\n",
    "from model.pred_prey import PredPrey"
   ]
  },
  {
   "cell_type": "code",
   "execution_count": 3,
   "metadata": {
    "ExecuteTime": {
     "end_time": "2023-04-07T13:56:51.453653Z",
     "start_time": "2023-04-07T13:56:51.450975Z"
    },
    "collapsed": false,
    "jupyter": {
     "outputs_hidden": false
    }
   },
   "outputs": [
    {
     "name": "stdout",
     "output_type": "stream",
     "text": [
      "Running PredPreyPY...\n"
     ]
    },
    {
     "name": "stderr",
     "output_type": "stream",
     "text": [
      "100%|██████████████████████████████████████████| 50/50 [00:05<00:00,  9.02it/s]\n"
     ]
    },
    {
     "name": "stdout",
     "output_type": "stream",
     "text": [
      "Running PredPreySD...\n"
     ]
    },
    {
     "name": "stderr",
     "output_type": "stream",
     "text": [
      "100%|██████████████████████████████████████████| 50/50 [00:27<00:00,  1.83it/s]\n"
     ]
    }
   ],
   "source": [
    "# Define uncertainties and outcomes\n",
    "uncertainties = [RealParameter('prey_birth_rate', 0.015, 0.035),\n",
    "                       RealParameter('predation_rate', 0.0005, 0.003),\n",
    "                       RealParameter('predator_efficiency', 0.001, 0.004),\n",
    "                       RealParameter('predator_loss_rate', 0.04, 0.08)]\n",
    "\n",
    "outcomes = [#TimeSeriesOutcome('TIME'),\n",
    "                 TimeSeriesOutcome('predators'),\n",
    "                 TimeSeriesOutcome('prey')]\n",
    "\n",
    "# Define model objects for the different implementations\n",
    "\n",
    "# python\n",
    "model_py = Model('PredPreyPY', function = PredPrey)\n",
    "\n",
    "# system dynamics\n",
    "mdl_file = \"./model/PredPrey.mdl\"\n",
    "model_sd = PysdModel('PredPreySD', mdl_file = mdl_file)\n",
    "\n",
    "# netlogo\n",
    "wd = \"./model\"\n",
    "f = \"PredPrey.nlogo\"\n",
    "model_nl = NetLogoModel('PredPreyNL', wd=wd, model_file=f)\n",
    "\n",
    "experiments, results = {}, {}\n",
    "\n",
    "for model in [model_py, model_sd]:#, model_nl]:\n",
    "    model.uncertainties, model.outcomes = uncertainties, outcomes\n",
    "    print('Running {}...'.format(model.name))\n",
    "    if isinstance(model, NetLogoModel):\n",
    "        with SequentialEvaluator(model) as evaluator:\n",
    "            experiments[model.name], results[model.name] = evaluator.perform_experiments(scenarios=50, policies=0)\n",
    "    else:\n",
    "        with MultiprocessingEvaluator(model) as evaluator:\n",
    "            experiments[model.name], results[model.name] = evaluator.perform_experiments(scenarios=50, policies=0)\n",
    "        "
   ]
  },
  {
   "cell_type": "code",
   "execution_count": 5,
   "metadata": {},
   "outputs": [
    {
     "name": "stdout",
     "output_type": "stream",
     "text": [
      "PredPreyPY\n"
     ]
    },
    {
     "ename": "AttributeError",
     "evalue": "'NoneType' object has no attribute 'T'",
     "output_type": "error",
     "traceback": [
      "\u001b[1;31m---------------------------------------------------------------------------\u001b[0m",
      "\u001b[1;31mAttributeError\u001b[0m                            Traceback (most recent call last)",
      "Cell \u001b[1;32mIn[5], line 6\u001b[0m\n\u001b[0;32m      4\u001b[0m     res \u001b[38;5;241m=\u001b[39m results[model_type]\n\u001b[0;32m      5\u001b[0m     \u001b[38;5;28;01mfor\u001b[39;00m result \u001b[38;5;129;01min\u001b[39;00m res\u001b[38;5;241m.\u001b[39mkeys():\n\u001b[1;32m----> 6\u001b[0m         lines(exp, res, outcomes_to_show\u001b[38;5;241m=\u001b[39mresult,\n\u001b[0;32m      7\u001b[0m                        density\u001b[38;5;241m=\u001b[39mDensity\u001b[38;5;241m.\u001b[39mHIST)\n\u001b[0;32m      8\u001b[0m plt\u001b[38;5;241m.\u001b[39mshow()\n",
      "File \u001b[1;32m~\\.conda\\envs\\EPA1361\\Lib\\site-packages\\ema_workbench\\analysis\\plotting.py:366\u001b[0m, in \u001b[0;36mlines\u001b[1;34m(experiments, outcomes, outcomes_to_show, group_by, grouping_specifiers, density, legend, titles, ylabels, experiments_to_show, show_envelope, log)\u001b[0m\n\u001b[0;32m    364\u001b[0m     group_by_lines(outcomes, outcome_to_plot, time, density, ax, ax_d, grouping_labels, log)\n\u001b[0;32m    365\u001b[0m \u001b[38;5;28;01melse\u001b[39;00m:\n\u001b[1;32m--> 366\u001b[0m     simple_lines(outcomes, outcome_to_plot, time, density, ax, ax_d, log)\n\u001b[0;32m    367\u001b[0m ax\u001b[38;5;241m.\u001b[39mset_xlabel(TIME_LABEL)\n\u001b[0;32m    368\u001b[0m do_ylabels(ax, ylabels, outcome_to_plot)\n",
      "File \u001b[1;32m~\\.conda\\envs\\EPA1361\\Lib\\site-packages\\ema_workbench\\analysis\\plotting.py:563\u001b[0m, in \u001b[0;36msimple_lines\u001b[1;34m(outcomes, outcome_to_plot, time, density, ax, ax_d, log)\u001b[0m\n\u001b[0;32m    547\u001b[0m \u001b[38;5;124;03m\"\"\"\u001b[39;00m\n\u001b[0;32m    548\u001b[0m \n\u001b[0;32m    549\u001b[0m \u001b[38;5;124;03mHelper function responsible for generating a simple lines plot.\u001b[39;00m\n\u001b[1;32m   (...)\u001b[0m\n\u001b[0;32m    560\u001b[0m \n\u001b[0;32m    561\u001b[0m \u001b[38;5;124;03m\"\"\"\u001b[39;00m\n\u001b[0;32m    562\u001b[0m value \u001b[38;5;241m=\u001b[39m outcomes[outcome_to_plot]\n\u001b[1;32m--> 563\u001b[0m ax\u001b[38;5;241m.\u001b[39mplot(time\u001b[38;5;241m.\u001b[39mT, value\u001b[38;5;241m.\u001b[39mT)\n\u001b[0;32m    564\u001b[0m \u001b[38;5;28;01mif\u001b[39;00m density:\n\u001b[0;32m    565\u001b[0m     simple_density(density, value, ax_d, ax, log)\n",
      "\u001b[1;31mAttributeError\u001b[0m: 'NoneType' object has no attribute 'T'"
     ]
    },
    {
     "data": {
      "image/png": "[encoded data removed]",
      "text/plain": [
       "<Figure size 640x480 with 2 Axes>"
      ]
     },
     "metadata": {},
     "output_type": "display_data"
    }
   ],
   "source": [
    "for model_type in experiments.keys():\n",
    "    print(model_type)\n",
    "    exp = experiments[model_type]\n",
    "    res = results[model_type]\n",
    "    for result in res.keys():\n",
    "        lines(exp, res, outcomes_to_show=result,\n",
    "                       density=Density.HIST)\n",
    "plt.show()"
   ]
  }
 ],
 "metadata": {
  "kernelspec": {
   "display_name": "EPA1361",
   "language": "python",
   "name": "epa1361"
  },
  "language_info": {
   "codemirror_mode": {
    "name": "ipython",
    "version": 3
   },
   "file_extension": ".py",
   "mimetype": "text/x-python",
   "name": "python",
   "nbconvert_exporter": "python",
   "pygments_lexer": "ipython3",
   "version": "3.11.3"
  }
 },
 "nbformat": 4,
 "nbformat_minor": 4
}
